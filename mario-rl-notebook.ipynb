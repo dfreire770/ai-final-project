{
 "cells": [
  {
   "cell_type": "markdown",
   "metadata": {},
   "source": [
    "!pip install gym==0.26.2\n",
    "!pip install gym-notices==0.0.8\n",
    "!pip install gymnasium==0.29.1\n",
    "!pip install gym-super-mario-bros==7.4.0\n",
    "!pip install moviepy\n",
    "!pip install opencv-python==4.9.0.80\n",
    "!pip install ffmpeg-python==0.2.0"
   ]
  },
  {
   "cell_type": "code",
   "execution_count": null,
   "metadata": {},
   "outputs": [],
   "source": [
    "from nes_py.wrappers import JoypadSpace\n",
    "import gym_super_mario_bros\n",
    "from gym_super_mario_bros.actions import SIMPLE_MOVEMENT\n",
    "import gym.wrappers\n",
    "import gym\n",
    "\n",
    "import cv2\n",
    "import os\n",
    "\n",
    "import numpy as np\n",
    "\n",
    "import glob\n",
    "\n",
    "from IPython.display import HTML\n",
    "from IPython.display import Video\n"
   ]
  },
  {
   "cell_type": "code",
   "execution_count": null,
   "metadata": {},
   "outputs": [],
   "source": [
    "class FrameCaptureWrapper(gym.Wrapper):\n",
    "    def __init__(self, env, video_filename=\"./mario-rl.mp4\", fps=30.0):\n",
    "        super(FrameCaptureWrapper, self).__init__(env)\n",
    "        self.frames = []\n",
    "        self.video_filename = video_filename\n",
    "        self.fps = fps\n",
    "        self.video = None\n",
    "\n",
    "    def _open_video_writer(self):\n",
    "        first_frame = self.env.render()\n",
    "        height, width, _ = first_frame.shape\n",
    "        self.video = cv2.VideoWriter(self.video_filename, cv2.VideoWriter_fourcc(*'mp4v'), self.fps, (width, height))\n",
    "        #cv2.VideoWriter(output_name + '.avi', cv2.VideoWriter_fourcc('M','J','P','G'), fps, (source[0].shape[1], source[0].shape[0]), True)\n",
    "\n",
    "    def _close_video_writer(self):\n",
    "        if self.video is not None:\n",
    "            self.video.release()\n",
    "\n",
    "    def reset(self, **kwargs):\n",
    "        self.frames = []\n",
    "        self._close_video_writer()\n",
    "        obs = self.env.reset(**kwargs)\n",
    "        self._open_video_writer()\n",
    "        return obs\n",
    "\n",
    "    def step(self, action):\n",
    "        if self.video is None:\n",
    "            raise RuntimeError(\"Video writer is not initialized. Call reset before stepping.\")\n",
    "        obs, reward, terminated, truncated, info = self.env.step(action)\n",
    "        self.video.write(cv2.cvtColor(self.env.render(), cv2.COLOR_RGB2BGR))\n",
    "        return obs, reward, terminated, truncated, info\n",
    "\n",
    "    def close(self):\n",
    "        self._close_video_writer()\n",
    "        super(FrameCaptureWrapper, self).close()"
   ]
  },
  {
   "cell_type": "code",
   "execution_count": null,
   "metadata": {},
   "outputs": [],
   "source": [
    "#env = gym.make('SuperMarioBros-v0', apply_api_compatibility=True, render_mode=\"rgb_array\")\n",
    "env = gym_super_mario_bros.make('SuperMarioBros-v0', apply_api_compatibility=True, render_mode=\"rgb_array\")\n",
    "\n",
    "env = FrameCaptureWrapper(env, video_filename=\"./mario-rl.mp4\", fps=30)\n",
    "env.reset()\n",
    "\n",
    "frames = []\n",
    "\n",
    "for _ in range(1000):\n",
    "    action = env.action_space.sample()  \n",
    "    obs, reward, terminated, truncated, info = env.step(action)\n",
    "    if terminated:\n",
    "        obs = env.reset()\n",
    "\n",
    "env.close()\n",
    "\n",
    "frames = env.frames\n",
    "\n"
   ]
  },
  {
   "cell_type": "code",
   "execution_count": null,
   "metadata": {},
   "outputs": [],
   "source": [
    "# Define the directory where your files are located\n",
    "directory = \"./\"\n",
    "\n",
    "# Define the file extension you're interested in\n",
    "file_extension = \"*.mp4\"\n",
    "\n",
    "# Use glob to search for files with the specified extension in the directory\n",
    "file_list = glob.glob(directory + file_extension)\n",
    "\n",
    "# Iterate through the list of files found\n",
    "for file_path in file_list:\n",
    "    # Do whatever you need to do with each file\n",
    "    print(\"Found file:\", file_path)\n"
   ]
  },
  {
   "cell_type": "code",
   "execution_count": null,
   "metadata": {},
   "outputs": [],
   "source": [
    "file_path[0]"
   ]
  },
  {
   "cell_type": "code",
   "execution_count": null,
   "metadata": {},
   "outputs": [],
   "source": [
    "#using embeded video player (jupyter or vscode)\n",
    "#Video(filename=file_list[0],embed=True)\n",
    "\n",
    "video_path = file_list[0]\n",
    "# Embed the video using HTML5 video tag\n",
    "HTML(f\"\"\"\n",
    "<video width=\"640\" height=\"480\" controls>\n",
    "  <source src=\"{video_path}\" type=\"video/mp4\">\n",
    "</video>\n",
    "\"\"\")"
   ]
  },
  {
   "cell_type": "code",
   "execution_count": null,
   "metadata": {},
   "outputs": [],
   "source": []
  }
 ],
 "metadata": {
  "kernelspec": {
   "display_name": "base",
   "language": "python",
   "name": "python3"
  },
  "language_info": {
   "codemirror_mode": {
    "name": "ipython",
    "version": 3
   },
   "file_extension": ".py",
   "mimetype": "text/x-python",
   "name": "python",
   "nbconvert_exporter": "python",
   "pygments_lexer": "ipython3",
   "version": "3.12.3"
  }
 },
 "nbformat": 4,
 "nbformat_minor": 2
}
