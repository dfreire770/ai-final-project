{
 "cells": [
  {
   "cell_type": "code",
   "execution_count": 1,
   "metadata": {},
   "outputs": [],
   "source": [
    "import gym.wrappers\n",
    "import numpy as np\n",
    "from PIL import Image\n",
    "from nes_py.wrappers import JoypadSpace\n",
    "import gym_super_mario_bros\n",
    "from gym_super_mario_bros.actions import SIMPLE_MOVEMENT\n",
    "from IPython.display import HTML\n",
    "\n"
   ]
  },
  {
   "cell_type": "code",
   "execution_count": 2,
   "metadata": {},
   "outputs": [],
   "source": [
    "\n",
    "# Initialize Super Mario Bros environment\n",
    "env = gym_super_mario_bros.make('SuperMarioBros-v0')\n",
    "env = gym.wrappers.Monitor(env, './video', force=True)\n",
    "#env = gym.wrappers.RecordVideo(env, 'video', episode_trigger = lambda x: x % 2 == 0) #creates a video of the gameplay (rl-video-episode-0.mp4)\n",
    "\n",
    "frames = []\n",
    "obs = env.reset()\n",
    "done = False\n",
    "#while not done:\n",
    "for t in range(1000):\n",
    "    # Render the current frame\n",
    "    frame = env.render(mode='rgb_array')\n",
    "    frames.append(frame)\n",
    "    \n",
    "    # Take a random action for demonstration purposes\n",
    "    action = env.action_space.sample()\n",
    "    \n",
    "    # Step the environment\n",
    "    obs, reward, done, info = env.step(action)\n",
    "\n",
    "env.close()\n",
    "# Create GIF from frames\n",
    "#imageio.mimsave('gameplay.gif', frames, duration=0.1)"
   ]
  },
  {
   "cell_type": "code",
   "execution_count": 3,
   "metadata": {},
   "outputs": [
    {
     "data": {
      "text/html": [
       "\n",
       "<video width=\"640\" height=\"480\" controls>\n",
       "  <source src=\"./video/rl-video-episode-0.mp4\" type=\"video/mp4\">\n",
       "</video>\n"
      ],
      "text/plain": [
       "<IPython.core.display.HTML object>"
      ]
     },
     "execution_count": 3,
     "metadata": {},
     "output_type": "execute_result"
    }
   ],
   "source": [
    "\n",
    "video_path = './video/rl-video-episode-0.mp4'\n",
    "\n",
    "# Embed the video using HTML5 video tag\n",
    "HTML(f\"\"\"\n",
    "<video width=\"640\" height=\"480\" controls>\n",
    "  <source src=\"{video_path}\" type=\"video/mp4\">\n",
    "</video>\n",
    "\"\"\")\n"
   ]
  },
  {
   "cell_type": "code",
   "execution_count": null,
   "metadata": {},
   "outputs": [],
   "source": []
  }
 ],
 "metadata": {
  "kernelspec": {
   "display_name": "base",
   "language": "python",
   "name": "python3"
  },
  "language_info": {
   "codemirror_mode": {
    "name": "ipython",
    "version": 3
   },
   "file_extension": ".py",
   "mimetype": "text/x-python",
   "name": "python",
   "nbconvert_exporter": "python",
   "pygments_lexer": "ipython3",
   "version": "3.10.8"
  }
 },
 "nbformat": 4,
 "nbformat_minor": 2
}
